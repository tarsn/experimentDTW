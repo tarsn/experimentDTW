{
 "cells": [
  {
   "cell_type": "code",
   "execution_count": 1,
   "metadata": {},
   "outputs": [
    {
     "name": "stderr",
     "output_type": "stream",
     "text": [
      "c:\\Users\\mmuuh\\AppData\\Local\\Programs\\Python\\Python37\\lib\\site-packages\\tqdm\\auto.py:21: TqdmWarning: IProgress not found. Please update jupyter and ipywidgets. See https://ipywidgets.readthedocs.io/en/stable/user_install.html\n",
      "  from .autonotebook import tqdm as notebook_tqdm\n"
     ]
    }
   ],
   "source": [
    "import sys\n",
    "import os\n",
    "import numpy as np\n",
    "import pandas as pd\n",
    "\n",
    "# Menambahkan path ke folder `src`\n",
    "sys.path.append(os.path.abspath(os.path.join(os.getcwd(), '..')))\n",
    "\n",
    "from src.features.featuresExtraction import FeaturesExtraction\n",
    "from src.features.audioFilter import filter_audio"
   ]
  },
  {
   "cell_type": "code",
   "execution_count": 2,
   "metadata": {},
   "outputs": [],
   "source": [
    "def ExtractFromFolder(list, folderName, var):\n",
    "    for folderNames in os.listdir(folderName):\n",
    "        for fileNames in os.listdir(folderName + folderNames):\n",
    "            if fileNames.endswith(\".wav\"):\n",
    "                features = FeaturesExtraction(path=folderName + folderNames, audio_file=fileNames, target=folderNames)\n",
    "                if var == 1:\n",
    "                    list[0][folderNames].append(features)\n",
    "                elif var == 2:\n",
    "                    list[1][folderNames].append(features)\n",
    "                elif var == 3:\n",
    "                    list[2][folderNames].append(features)\n",
    "    \n",
    "    return list\n"
   ]
  },
  {
   "cell_type": "code",
   "execution_count": 3,
   "metadata": {},
   "outputs": [],
   "source": [
    "__root_folder__ = [\"../data1/template/p1/\",\"../data1/template/p2/\",\"../data1/template/p3/\"]\n",
    "\n",
    "d1_p1_tem = {'a': [], 'e': [], 'i': [], 'o': [], 'u': []}\n",
    "d1_p2_tem = {'a': [], 'e': [], 'i': [], 'o': [], 'u': []}\n",
    "d1_p3_tem = {'a': [], 'e': [], 'i': [], 'o': [], 'u': []}\n",
    "\n",
    "d1_list_tem = [d1_p1_tem, d1_p2_tem, d1_p3_tem]\n",
    "\n",
    "for index, root in enumerate(__root_folder__):\n",
    "    [d1_p1_tem, d1_p2_tem, d1_p3_tem] = ExtractFromFolder(d1_list_tem, root, index+1)"
   ]
  },
  {
   "cell_type": "code",
   "execution_count": 4,
   "metadata": {},
   "outputs": [],
   "source": [
    "# p1_filtered = {\n",
    "#     'a': [],\n",
    "#     'e': [],\n",
    "#     'i': [],\n",
    "#     'o': [],\n",
    "#     'u': []\n",
    "# }\n",
    "\n",
    "# p2_filtered = {\n",
    "#     'a': [],\n",
    "#     'e': [],\n",
    "#     'i': [],\n",
    "#     'o': [],\n",
    "#     'u': []\n",
    "# }\n",
    "\n",
    "# p3_filtered = {\n",
    "#     'a': [],\n",
    "#     'e': [],\n",
    "#     'i': [],\n",
    "#     'o': [],\n",
    "#     'u': []\n",
    "# }\n",
    "\n",
    "# __root_header__ = \"../data/\"\n",
    "\n",
    "# def FilterAudio(root, index):\n",
    "#     for folderNames in os.listdir(__root_header__ + root):\n",
    "#         for fileNames in os.listdir(__root_header__ + root + folderNames):\n",
    "#             if fileNames.endswith(\".wav\"):\n",
    "#                 # print(\"Processing: \", fileNames)\n",
    "#                 filter_audio(input=__root_header__ + root + folderNames+\"/\"+fileNames, output=\"../tmpFiltered/\"+ root + fileNames)\n",
    "#                 features = FeaturesExtraction(path=\"../tmpFiltered/\" + root, audio_file=fileNames, target=folderNames)\n",
    "#                 if index == 1:\n",
    "#                     p1_filtered[folderNames].append(features)\n",
    "#                 elif index == 2:\n",
    "#                     p2_filtered[folderNames].append(features)\n",
    "#                 elif index == 3:\n",
    "#                     p3_filtered[folderNames].append(features)\n",
    "\n",
    "# __root_folder__ = [\"p1/\",\"p2/\",\"p3/\"]\n",
    "\n",
    "# for index, root in enumerate(__root_folder__):\n",
    "#     FilterAudio(root, index+1)"
   ]
  },
  {
   "cell_type": "code",
   "execution_count": 5,
   "metadata": {},
   "outputs": [],
   "source": [
    "vowels = ['a','e','i','o','u']\n",
    "mean_feat= {\n",
    "    'a': [],\n",
    "    'e': [],\n",
    "    'i': [],\n",
    "    'o': [],\n",
    "    'u': []\n",
    "}\n",
    "\n",
    "dataset = [d1_p1_tem, d1_p2_tem, d1_p3_tem]\n",
    "for vowel in vowels:\n",
    "    feat_store = []\n",
    "    for data in dataset:\n",
    "        for feature in data[vowel]:\n",
    "            mfcc_mean = feature.mfccs.get_mean_features()\n",
    "            feat_store.append(mfcc_mean)\n",
    "\n",
    "    feat_store = np.array(feat_store)\n",
    "    mean = np.mean(feat_store, axis=0)\n",
    "    mean_feat[vowel] = mean"
   ]
  },
  {
   "cell_type": "code",
   "execution_count": 6,
   "metadata": {},
   "outputs": [],
   "source": [
    "from src.features.dtw import DTW, VowelIdentifier\n",
    "\n",
    "vi_mean = VowelIdentifier()\n",
    "\n",
    "for vowel in vowels:\n",
    "    vi_mean.add_reference(vowel, mean_feat[vowel])\n",
    "    "
   ]
  },
  {
   "cell_type": "markdown",
   "metadata": {},
   "source": [
    "# TESTING"
   ]
  },
  {
   "cell_type": "code",
   "execution_count": 7,
   "metadata": {},
   "outputs": [],
   "source": [
    "# sample = FeaturesExtraction(path = '../data/p1/i/', audio_file='I0012.wav', target='i/')\n",
    "# sample_mean = sample.mfccs.get_mean_features()\n",
    "# identified_vowel, distance = vi_mean.identify(sample_mean)\n",
    "\n",
    "# print(f\"Identified Vowel: {identified_vowel}, DTW Distance: {distance}\")\n",
    "# dtw_instance = vi_mean.dtw\n",
    "# distance, path = dtw_instance.dtw(sample_mean, vi_mean.reference_features[identified_vowel])\n",
    "# dtw_instance.plot_cost_matrix(title=f\"DTW Cost Matrix for {identified_vowel}\")\n"
   ]
  },
  {
   "cell_type": "code",
   "execution_count": 8,
   "metadata": {},
   "outputs": [],
   "source": [
    "def identifyVowel(feature: FeaturesExtraction, v: VowelIdentifier):\n",
    "    feature_mean = feature.mfccs.get_mean_features()\n",
    "    identified_vowel, distance = v.identify(feature_mean)\n",
    "    return identified_vowel, distance"
   ]
  },
  {
   "cell_type": "markdown",
   "metadata": {},
   "source": [
    "## Testing & Accuracy"
   ]
  },
  {
   "cell_type": "code",
   "execution_count": 9,
   "metadata": {},
   "outputs": [],
   "source": [
    "__root_folder__ = [\"../data1/testing/p1/\",\"../data1/testing/p2/\",\"../data1/testing/p3/\"]\n",
    "\n",
    "d1_p1_tes = {'a': [], 'e': [], 'i': [], 'o': [], 'u': []}\n",
    "d1_p2_tes = {'a': [], 'e': [], 'i': [], 'o': [], 'u': []}\n",
    "d1_p3_tes = {'a': [], 'e': [], 'i': [], 'o': [], 'u': []}\n",
    "\n",
    "d1_list_tes = [d1_p1_tes, d1_p2_tes, d1_p3_tes]\n",
    "\n",
    "for index, root in enumerate(__root_folder__):\n",
    "    [d1_p1_tes, d1_p2_tes, d1_p3_tes] = ExtractFromFolder(d1_list_tes, root, index+1)\n"
   ]
  },
  {
   "cell_type": "code",
   "execution_count": 10,
   "metadata": {},
   "outputs": [
    {
     "name": "stdout",
     "output_type": "stream",
     "text": [
      "Correct Identification for a: 7\n",
      "From total: 9\n",
      "Accuracy for a: 0.7777777777777778\n",
      "\n",
      "Correct Identification for e: 9\n",
      "From total: 17\n",
      "Accuracy for e: 0.5294117647058824\n",
      "\n",
      "Correct Identification for i: 13\n",
      "From total: 13\n",
      "Accuracy for i: 1.0\n",
      "\n",
      "Correct Identification for o: 2\n",
      "From total: 16\n",
      "Accuracy for o: 0.125\n",
      "\n",
      "Correct Identification for u: 14\n",
      "From total: 15\n",
      "Accuracy for u: 0.9333333333333333\n",
      "\n",
      "P1 : Hanan -> Accurate 1\n",
      "Correct Identification: 45\n",
      "From total: 70\n",
      "Accuracy: 0.6428571428571429\n"
     ]
    }
   ],
   "source": [
    "## P1 : Hanan\n",
    "\n",
    "correct_count = 0\n",
    "total = 0\n",
    "\n",
    "for vowel in vowels:\n",
    "    total_vowel = 0\n",
    "    correct_vowel = 0\n",
    "    for feature in d1_p1_tes[vowel]:\n",
    "        identified_vowel, distance = identifyVowel(feature=feature, v=vi_mean)\n",
    "        # print(f\"Vowel: {vowel}, Identified Vowel: {identified_vowel}, DTW Distance: {distance}\")\n",
    "        total += 1\n",
    "        total_vowel += 1\n",
    "        if (identified_vowel[0] == vowel):\n",
    "            correct_count += 1\n",
    "            correct_vowel += 1\n",
    "            # print(\"Correct Identification\")\n",
    "        # else:\n",
    "            # print(\"False Identification\")\n",
    "\n",
    "    print(f\"Correct Identification for {vowel}: {correct_vowel}\")\n",
    "    print(f\"From total: {total_vowel}\")\n",
    "    print(f\"Accuracy for {vowel}: {correct_vowel/total_vowel}\")\n",
    "    print()\n",
    "\n",
    "print(\"P1 : Hanan -> Accurate 1\")\n",
    "print(f\"Correct Identification: {correct_count}\")\n",
    "print(f\"From total: {total}\")\n",
    "print(f\"Accuracy: {correct_count/total}\")"
   ]
  },
  {
   "cell_type": "code",
   "execution_count": 11,
   "metadata": {},
   "outputs": [
    {
     "name": "stdout",
     "output_type": "stream",
     "text": [
      "Correct Identification for a: 9\n",
      "From total: 10\n",
      "Accuracy for a: 0.9\n",
      "\n",
      "Correct Identification for e: 11\n",
      "From total: 11\n",
      "Accuracy for e: 1.0\n",
      "\n",
      "Correct Identification for i: 2\n",
      "From total: 10\n",
      "Accuracy for i: 0.2\n",
      "\n",
      "Correct Identification for o: 11\n",
      "From total: 12\n",
      "Accuracy for o: 0.9166666666666666\n",
      "\n",
      "Correct Identification for u: 11\n",
      "From total: 11\n",
      "Accuracy for u: 1.0\n",
      "\n",
      "P2 : Alex -> Accurate 1\n",
      "Correct Identification: 44\n",
      "From total: 54\n",
      "Accuracy: 0.8148148148148148\n"
     ]
    }
   ],
   "source": [
    "## P2 : Alex\n",
    "\n",
    "correct_count = 0\n",
    "total = 0\n",
    "\n",
    "for vowel in vowels:\n",
    "    total_vowel = 0\n",
    "    correct_vowel = 0\n",
    "    for feature in d1_p2_tes[vowel]:\n",
    "        identified_vowel, distance = identifyVowel(feature=feature, v=vi_mean)\n",
    "        # print(f\"Vowel: {vowel}, Identified Vowel: {identified_vowel}, DTW Distance: {distance}\")\n",
    "        total += 1\n",
    "        total_vowel += 1\n",
    "        if (identified_vowel[0] == vowel):\n",
    "            correct_count += 1\n",
    "            correct_vowel += 1\n",
    "        #     print(\"Correct Identification\")\n",
    "        # else:\n",
    "        #     print(\"False Identification\")\n",
    "\n",
    "    print(f\"Correct Identification for {vowel}: {correct_vowel}\")\n",
    "    print(f\"From total: {total_vowel}\")\n",
    "    print(f\"Accuracy for {vowel}: {correct_vowel/total_vowel}\")\n",
    "    print()\n",
    "\n",
    "\n",
    "print(\"P2 : Alex -> Accurate 1\")\n",
    "print(f\"Correct Identification: {correct_count}\")\n",
    "print(f\"From total: {total}\")\n",
    "print(f\"Accuracy: {correct_count/total}\")"
   ]
  },
  {
   "cell_type": "code",
   "execution_count": 12,
   "metadata": {},
   "outputs": [
    {
     "name": "stdout",
     "output_type": "stream",
     "text": [
      "Correct Identification for a: 3\n",
      "From total: 13\n",
      "Accuracy for a: 0.23076923076923078\n",
      "\n",
      "Correct Identification for e: 12\n",
      "From total: 15\n",
      "Accuracy for e: 0.8\n",
      "\n",
      "Correct Identification for i: 13\n",
      "From total: 14\n",
      "Accuracy for i: 0.9285714285714286\n",
      "\n",
      "Correct Identification for o: 5\n",
      "From total: 13\n",
      "Accuracy for o: 0.38461538461538464\n",
      "\n",
      "Correct Identification for u: 8\n",
      "From total: 14\n",
      "Accuracy for u: 0.5714285714285714\n",
      "\n",
      "P3 : Rifqi -> Accurate 1\n",
      "Correct Identification: 41\n",
      "From total: 69\n",
      "Accuracy: 0.5942028985507246\n"
     ]
    }
   ],
   "source": [
    "## P3 : Rifqi\n",
    "\n",
    "correct_count = 0\n",
    "total = 0\n",
    "\n",
    "for vowel in vowels:\n",
    "    total_vowel = 0\n",
    "    correct_vowel = 0\n",
    "    for feature in d1_p3_tes[vowel]:\n",
    "        identified_vowel, distance = identifyVowel(feature=feature, v=vi_mean)\n",
    "        # print(f\"Vowel: {vowel}, Identified Vowel: {identified_vowel}, DTW Distance: {distance}\")\n",
    "        total += 1\n",
    "        total_vowel += 1\n",
    "        if (identified_vowel[0] == vowel):\n",
    "            correct_count += 1\n",
    "            correct_vowel += 1\n",
    "        #     print(\"Correct Identification\")\n",
    "        # else:\n",
    "        #     print(\"False Identification\")\n",
    "\n",
    "    print(f\"Correct Identification for {vowel}: {correct_vowel}\")\n",
    "    print(f\"From total: {total_vowel}\")\n",
    "    print(f\"Accuracy for {vowel}: {correct_vowel/total_vowel}\")\n",
    "    print()\n",
    "\n",
    "\n",
    "print(\"P3 : Rifqi -> Accurate 1\")\n",
    "print(f\"Correct Identification: {correct_count}\")\n",
    "print(f\"From total: {total}\")\n",
    "print(f\"Accuracy: {correct_count/total}\")"
   ]
  }
 ],
 "metadata": {
  "kernelspec": {
   "display_name": "Python 3",
   "language": "python",
   "name": "python3"
  },
  "language_info": {
   "codemirror_mode": {
    "name": "ipython",
    "version": 3
   },
   "file_extension": ".py",
   "mimetype": "text/x-python",
   "name": "python",
   "nbconvert_exporter": "python",
   "pygments_lexer": "ipython3",
   "version": "3.7.0"
  }
 },
 "nbformat": 4,
 "nbformat_minor": 2
}
